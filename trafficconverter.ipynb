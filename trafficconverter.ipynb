{
 "cells": [
  {
   "cell_type": "code",
   "execution_count": null,
   "id": "4bcbe9c1",
   "metadata": {},
   "outputs": [],
   "source": [
    "import pandas as pd\n",
    "\n",
    "# convert utm32 to lat long\n",
    "import pyproj #\n",
    "\n",
    "def utm_to_latlong(x, y):\n",
    "    transformer = pyproj.Transformer.from_crs(32632, 4326, always_xy=True)\n",
    "    lon, lat = transformer.transform(x, y)\n",
    "    return pd.Series([lat, lon])\n",
    "\n",
    "years = [\"2005\", \"2006\", \"2007\", \"2008\", \"2009\", \"2010\", \"2011\", \"2012\", \"2013\", \"2014\"]\n",
    "\n",
    "for year in years:\n",
    "    # read xlsx file ignore first 8 rows\n",
    "    df = pd.read_excel('data/faste-trafiktaellinger-'+year+'.xlsx', skiprows=8)\n",
    "\n",
    "    # join first two rows\n",
    "    df.iloc[1] = df.iloc[0].apply(lambda x: str(x) + \" \" if (str(x)!=\"nan\" and str(x)!=\"Talt\") else \"\") + df.iloc[1].apply(lambda x: str(x) if str(x)!=\"nan\" else \"\")\n",
    "\n",
    "    # drop first row\n",
    "    df = df.drop(df.index[0])\n",
    "\n",
    "    # set column names to first row\n",
    "    df.columns = df.iloc[0]\n",
    "    df = df.drop(df.index[0])\n",
    "    # reset index\n",
    "    df = df.reset_index(drop=True)\n",
    "\n",
    "    # change type of all columns starting with \"kl.\" to int\n",
    "    for col in df.columns:\n",
    "        if (col.startswith(\"X\") or col.startswith(\"Y\")):\n",
    "            df[col] = df[col].apply(lambda x: int(x))\n",
    "        if (col.startswith(\"kl.\")):\n",
    "            df[col] = df[col].apply(lambda x: int(x) if str(x)!=\"nan\" else 0)\n",
    "\n",
    "    df[\"Dato\"] = pd.to_datetime(df[\"Dato\"], format=\"%d.%m.%Y\").dt.date\n",
    "\n",
    "    # drop Spor column\n",
    "    df = df.drop(columns=[\"Spor\"])\n",
    "\n",
    "    df[[\"lat\", \"lon\"]] = df.apply(lambda row: utm_to_latlong(row[\"Xkoordinat (UTM32)\"], row[\"Ykoordinat (UTM32)\"]), axis=1)\n",
    "\n",
    "    # combine lat lon column into list in one column\n",
    "    df[\"latlon\"]= df.apply(lambda row: (row[\"lat\"], row[\"lon\"]), axis=1)\n",
    "\n",
    "    # drop xkoordinat and ykoordinat columns\n",
    "    df = df.drop(columns=[\"Xkoordinat (UTM32)\", \"Ykoordinat (UTM32)\"])\n",
    "\n",
    "    # save to csv\n",
    "    df.to_csv('data/traffic-'+year+'.csv', index=False, sep=',')\n"
   ]
  }
 ],
 "metadata": {
  "kernelspec": {
   "display_name": "base",
   "language": "python",
   "name": "python3"
  },
  "language_info": {
   "name": "python",
   "version": "3.11.5"
  }
 },
 "nbformat": 4,
 "nbformat_minor": 5
}
